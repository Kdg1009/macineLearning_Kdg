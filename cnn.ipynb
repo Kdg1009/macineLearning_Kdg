{
 "cells": [
  {
   "cell_type": "code",
   "execution_count": 3,
   "id": "38321483",
   "metadata": {},
   "outputs": [],
   "source": [
    "import numpy as np\n",
    "import cv2"
   ]
  },
  {
   "cell_type": "code",
   "execution_count": 4,
   "id": "8ac09562",
   "metadata": {},
   "outputs": [],
   "source": [
    "class conv:\n",
    "    def __init__(self,filter,bias):\n",
    "        # F.shape=(C*FH*FW,FN)\n",
    "        self.F=filter\n",
    "        # b.shape=(1,FN)\n",
    "        self.b=bias\n",
    "        # data.shape=(N*OH*OW,FN)\n",
    "        self.data=None\n",
    "    def forward(self,data,batch_size,FH,FW,channel=3,stride=1,padding=0):\n",
    "        # ready2dot: (N*H,W*C) => (N*OH*OW,C*FH*FW)\n",
    "        self.data=ready2dot(data,stride,padding,FH,FW,channel,batch_size)\n",
    "        ret=np.dot(data,self.F)+self.b\n",
    "        return ret\n",
    "    def backward(self,diff_y,learning_rate=0.1):\n",
    "        F-=learning_rate*np.dot(self.data.T,diff_y)\n",
    "        f=lambda x: x if len(x[0])==1 else x[0]+f(x[1:])\n",
    "        temp=f(diff_y)/diff_y.shape[0]\n",
    "        b-=learning_rate*temp\n",
    "        return np.dot(diff_y,self.F.T)"
   ]
  },
  {
   "cell_type": "code",
   "execution_count": 5,
   "id": "c4186d86",
   "metadata": {},
   "outputs": [],
   "source": [
    "def ready2dot(data,stride,padding,FH,FW,C,N):\n",
    "    # data.shape=(N*H,W*C)\n",
    "    # add padding\n",
    "    data=np.concatenate((np.zeros((W*C,padding),dtype=int),data),axis=1)\n",
    "    data=np.concatenate((data,np.zeros((W*C,padding),dtype=int)),axis=1)\n",
    "    data=np.concatenate(np.zeros((padding,N*H+2*padding),dtype=int),data,axis=0)\n",
    "    data=np.concatenate(data,np.zeros((padding,N*H+2*padding),dtype=int),axis=0)\n",
    "    OH=N*int((H-FH+2*padding)/stride)+1\n",
    "    OW=N*int((W-FW+2*padding)/stride)+1\n",
    "    ret=[]\n",
    "    for i in range(OH):\n",
    "        temp=data[i*stride:i*stride+FH]\n",
    "        for j in range(OW):\n",
    "            L=temp[j*stride*C:j*stride*C+C*FW].reshape(1,C*FH*FW)\n",
    "            ret.append(L)\n",
    "    return ret"
   ]
  },
  {
   "cell_type": "code",
   "execution_count": 6,
   "id": "1e928267",
   "metadata": {},
   "outputs": [],
   "source": [
    "class relu:\n",
    "    def __init__(self):\n",
    "        self.mask=None\n",
    "    def forward(self,data):\n",
    "        self.mask=(data<=0)\n",
    "        ret=data.copy()\n",
    "        ret[self.mask]=0\n",
    "        return ret\n",
    "    def backward(self,diff_y):\n",
    "        diff_y[self.mask]=0\n",
    "        return diff_y"
   ]
  },
  {
   "cell_type": "code",
   "execution_count": 7,
   "id": "f28e7115",
   "metadata": {},
   "outputs": [],
   "source": [
    "class pooling:\n",
    "    def __init__(self,stride):\n",
    "        self.stride=stride\n",
    "        self.mask=[]\n",
    "    def forward(self,data):\n",
    "        ret=[]\n",
    "        H,W=data.shape\n",
    "        OH=int(H/self.stride)\n",
    "        OW=int(W/self.stride)\n",
    "        for i in range(OH):\n",
    "            temp=data[i*self.stride:(i+1)*self.stride]\n",
    "            for j in range(OW):\n",
    "                tmp2=temp[j*self.stride:(j+1)*self.stride]\n",
    "                max_val=max(tmp2)\n",
    "                # mask,shape=((H/s)*(W/s),s,s)\n",
    "                self.mask.append(tmp2<max_val)\n",
    "                ret.append(max_val)\n",
    "        self.mask.reshape(H,W)\n",
    "        return ret.reshape(OH,OW)\n",
    "    def backward(self,diff_y):\n",
    "        H,W=self.mask.shape\n",
    "        OH=int(H/self.stride)\n",
    "        OW=int(W/self.stride)\n",
    "        ret=np.ones(H,W)\n",
    "        for i in range(OH):\n",
    "            tmp=self.mask[i*self.stride:(i+1)*self.stride]\n",
    "            for j in range(OW):\n",
    "                tmp2=tmp[j*self.stride:(j+1)*self.stride]\n",
    "                ret[tmp2]=0\n",
    "                ret[not tmp2]=diff_y[i][j]\n",
    "        return ret"
   ]
  },
  {
   "cell_type": "code",
   "execution_count": 2,
   "id": "8f4ed95e",
   "metadata": {},
   "outputs": [],
   "source": [
    "class Affine:\n",
    "    def __init__(self,W,b):\n",
    "        # W.shape=(M,O)\n",
    "        self.W=W\n",
    "        # b.shape=(1,O)\n",
    "        self.b=b\n",
    "    def forward(self,batch):\n",
    "        #batch.shape=(N,M)\n",
    "        ret=np.dot(batch,W)+b\n",
    "        return ret\n",
    "    def backward(self,diff_y,learning_rate=0.1):\n",
    "        self.b-=learning_rate*diff_y\n",
    "        self.W-=learning_rate*np.dot(x.T,diff_y)\n",
    "        return np.dot(diff_y,self.W.T)"
   ]
  },
  {
   "cell_type": "code",
   "execution_count": null,
   "id": "a1e39d00",
   "metadata": {},
   "outputs": [],
   "source": [
    "def Loss(y,t):\n",
    "    # t: predict, y: answer\n",
    "    # t.shape=(N*H*W,1)\n",
    "    "
   ]
  }
 ],
 "metadata": {
  "kernelspec": {
   "display_name": "Python 3 (ipykernel)",
   "language": "python",
   "name": "python3"
  },
  "language_info": {
   "codemirror_mode": {
    "name": "ipython",
    "version": 3
   },
   "file_extension": ".py",
   "mimetype": "text/x-python",
   "name": "python",
   "nbconvert_exporter": "python",
   "pygments_lexer": "ipython3",
   "version": "3.7.9"
  }
 },
 "nbformat": 4,
 "nbformat_minor": 5
}
